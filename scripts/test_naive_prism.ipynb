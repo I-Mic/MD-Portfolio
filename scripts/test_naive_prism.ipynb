{
 "cells": [
  {
   "cell_type": "code",
   "execution_count": 1,
   "metadata": {},
   "outputs": [],
   "source": [
    "from sklearn.model_selection import train_test_split\n",
    "from src.md.data.dataset import Dataset\n",
    "from src.md.classification.naivebayes import NaiveBayes\n",
    "from src.md.classification.prism import PRISM"
   ]
  },
  {
   "cell_type": "code",
   "execution_count": 2,
   "metadata": {},
   "outputs": [],
   "source": [
    "data = Dataset()\n",
    "adult = Dataset()\n",
    "data.read_csv(\"./datasets/penguins_size.csv\")\n",
    "adult.read_csv(\"./datasets/adult.data.csv\")\n",
    "data.replace_nulls(\"mode\")\n",
    "nb = NaiveBayes()\n",
    "nb_adult = NaiveBayes()\n",
    "prism = PRISM(data)\n",
    "prism_adult = PRISM(adult)"
   ]
  },
  {
   "cell_type": "code",
   "execution_count": 3,
   "metadata": {},
   "outputs": [],
   "source": [
    "X_train, X_test, y_train, y_test = train_test_split(data.X, data.y, test_size=0.20, random_state=1234)\n",
    "X_train_adult, X_test_adult, y_train_adult, y_test_adult = train_test_split(adult.X, adult.y, test_size=0.20, random_state=1234)\n",
    "\n",
    "nb.fit(X_train,y_train)\n",
    "nb_adult.fit(X_train_adult,y_train_adult)\n",
    "\n",
    "prism.fit(X_train,y_train)\n",
    "prism_adult.fit(X_train_adult,y_train_adult)"
   ]
  },
  {
   "cell_type": "code",
   "execution_count": 4,
   "metadata": {},
   "outputs": [
    {
     "name": "stdout",
     "output_type": "stream",
     "text": [
      "NaiveBayes: 0.7536231884057971\n",
      "PRISM: 0.5072463768115942\n"
     ]
    }
   ],
   "source": [
    "y_predNB = nb.predict(X_test)\n",
    "y_predP = prism.predict(X_test)\n",
    "\n",
    "scoreNB = nb.score(y_predNB,y_test)\n",
    "scoreP = nb.score(y_predP,y_test)\n",
    "\n",
    "print(\"NaiveBayes:\",scoreNB)\n",
    "print(\"PRISM:\",scoreP)"
   ]
  },
  {
   "cell_type": "code",
   "execution_count": 5,
   "metadata": {},
   "outputs": [
    {
     "name": "stdout",
     "output_type": "stream",
     "text": [
      "NaiveBayes adult: 0.7945331695331695\n",
      "PRISM adult: 0.7681203931203932\n"
     ]
    }
   ],
   "source": [
    "y_predNB = nb_adult.predict(X_test_adult)\n",
    "y_predP = prism_adult.predict(X_test_adult)\n",
    "\n",
    "scoreNB = nb_adult.score(y_predNB,y_test_adult)\n",
    "scoreP = nb_adult.score(y_predP,y_test_adult)\n",
    "\n",
    "print(\"NaiveBayes adult:\",scoreNB)\n",
    "print(\"PRISM adult:\",scoreP)"
   ]
  }
 ],
 "metadata": {
  "kernelspec": {
   "display_name": "Python 3",
   "language": "python",
   "name": "python3"
  },
  "language_info": {
   "codemirror_mode": {
    "name": "ipython",
    "version": 3
   },
   "file_extension": ".py",
   "mimetype": "text/x-python",
   "name": "python",
   "nbconvert_exporter": "python",
   "pygments_lexer": "ipython3",
   "version": "3.10.10"
  },
  "orig_nbformat": 4
 },
 "nbformat": 4,
 "nbformat_minor": 2
}
