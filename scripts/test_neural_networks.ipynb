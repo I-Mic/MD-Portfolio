{
 "cells": [
  {
   "cell_type": "code",
   "execution_count": 30,
   "metadata": {},
   "outputs": [],
   "source": [
    "from src.md.data.dataset import Dataset\n",
    "from sklearn.model_selection import train_test_split\n",
    "from src.md.mlnn.mlp import MLP"
   ]
  },
  {
   "cell_type": "code",
   "execution_count": 31,
   "metadata": {},
   "outputs": [],
   "source": [
    "data = Dataset()\n",
    "data.readDataset(\"./datasets/log-ex1.data\")"
   ]
  },
  {
   "cell_type": "code",
   "execution_count": 32,
   "metadata": {},
   "outputs": [],
   "source": [
    "X_train, X_test, y_train, y_test = train_test_split(data.X, data.y, test_size=0.20, random_state=1234)\n",
    "mlp = MLP()\n",
    "mlp.build_model(data.X,data.y)"
   ]
  },
  {
   "cell_type": "code",
   "execution_count": 33,
   "metadata": {},
   "outputs": [
    {
     "name": "stdout",
     "output_type": "stream",
     "text": [
      "[array([0.6000002]), array([0.6000002]), array([0.6000002]), array([0.60000016]), array([0.6000002]), array([0.6000002]), array([0.6000002]), array([0.6000002]), array([0.60000019]), array([0.6000002]), array([0.6000002]), array([0.6000002]), array([0.60000002]), array([0.6000002]), array([0.6000002]), array([0.6000002]), array([0.6000002]), array([0.59999997]), array([0.6000002]), array([0.6000002])]\n",
      "0.1199999960052173\n"
     ]
    }
   ],
   "source": [
    "predictions = [mlp.predict(x) for x in X_test]\n",
    "print(predictions)\n",
    "print(mlp.costFunction())\n"
   ]
  }
 ],
 "metadata": {
  "kernelspec": {
   "display_name": "Python 3",
   "language": "python",
   "name": "python3"
  },
  "language_info": {
   "codemirror_mode": {
    "name": "ipython",
    "version": 3
   },
   "file_extension": ".py",
   "mimetype": "text/x-python",
   "name": "python",
   "nbconvert_exporter": "python",
   "pygments_lexer": "ipython3",
   "version": "3.10.11"
  },
  "orig_nbformat": 4
 },
 "nbformat": 4,
 "nbformat_minor": 2
}
