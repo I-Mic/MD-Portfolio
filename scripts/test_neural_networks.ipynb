{
 "cells": [
  {
   "cell_type": "code",
   "execution_count": 1,
   "metadata": {},
   "outputs": [],
   "source": [
    "from src.md.data.dataset import Dataset\n",
    "from sklearn.model_selection import train_test_split\n",
    "from src.md.mlnn.mlp import MLP\n",
    "import numpy as np"
   ]
  },
  {
   "cell_type": "code",
   "execution_count": 2,
   "metadata": {},
   "outputs": [],
   "source": [
    "data = Dataset()\n",
    "data.readDataset(\"./datasets/xnor.data\")"
   ]
  },
  {
   "cell_type": "code",
   "execution_count": 12,
   "metadata": {},
   "outputs": [
    {
     "name": "stdout",
     "output_type": "stream",
     "text": [
      "[0.99588387]\n",
      "[1.10984358e-08]\n",
      "[0.00229646]\n",
      "[0.99588387]\n",
      "4.894854518075721e-06\n"
     ]
    }
   ],
   "source": [
    "\n",
    "mlp = MLP()\n",
    "mlp.build_model(data.X,data.y, random = False)\n",
    "#With wights initialized at 0\n",
    "print( mlp.predict(np.array([0,0]) ) )\n",
    "print( mlp.predict(np.array([0,1]) ) )\n",
    "print( mlp.predict(np.array([1,0]) ) )\n",
    "print( mlp.predict(np.array([1,1]) ) )\n",
    "print(mlp.costFunction())"
   ]
  },
  {
   "cell_type": "code",
   "execution_count": 14,
   "metadata": {},
   "outputs": [
    {
     "name": "stdout",
     "output_type": "stream",
     "text": [
      "[0.99846081]\n",
      "[4.08485507e-05]\n",
      "[7.06892006e-85]\n",
      "[1.]\n",
      "2.963477196781903e-07\n"
     ]
    }
   ],
   "source": [
    "mlp.build_model(data.X,data.y, random = True)\n",
    "#random weights\n",
    "print( mlp.predict(np.array([0,0]) ) )\n",
    "print( mlp.predict(np.array([0,1]) ) )\n",
    "print( mlp.predict(np.array([1,0]) ) )\n",
    "print( mlp.predict(np.array([1,1]) ) )\n",
    "print(mlp.costFunction())"
   ]
  },
  {
   "cell_type": "code",
   "execution_count": 17,
   "metadata": {},
   "outputs": [
    {
     "name": "stdout",
     "output_type": "stream",
     "text": [
      "[0.99995456]\n",
      "[4.54803785e-05]\n",
      "[4.54803785e-05]\n",
      "[0.99995456]\n",
      "1.033294270237197e-09\n"
     ]
    }
   ],
   "source": [
    "#with pre determined weights (from class slides)\n",
    "w1 = np.array([[-30,20,20],[10,-20,-20]])\n",
    "w2 = np.array([[-10,20,20]])\n",
    "mlp.setWeights(w1, w2)\n",
    "\n",
    "print( mlp.predict(np.array([0,0]) ) )\n",
    "print( mlp.predict(np.array([0,1]) ) )\n",
    "print( mlp.predict(np.array([1,0]) ) )\n",
    "print( mlp.predict(np.array([1,1]) ) )\n",
    "print(mlp.costFunction())\n"
   ]
  }
 ],
 "metadata": {
  "kernelspec": {
   "display_name": "Python 3",
   "language": "python",
   "name": "python3"
  },
  "language_info": {
   "codemirror_mode": {
    "name": "ipython",
    "version": 3
   },
   "file_extension": ".py",
   "mimetype": "text/x-python",
   "name": "python",
   "nbconvert_exporter": "python",
   "pygments_lexer": "ipython3",
   "version": "3.10.11"
  },
  "orig_nbformat": 4
 },
 "nbformat": 4,
 "nbformat_minor": 2
}
