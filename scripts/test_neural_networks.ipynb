{
 "cells": [
  {
   "cell_type": "code",
   "execution_count": 1,
   "metadata": {},
   "outputs": [],
   "source": [
    "from src.md.data.dataset import Dataset\n",
    "from sklearn.model_selection import train_test_split\n",
    "from src.md.mlnn.mlp import MLP"
   ]
  },
  {
   "cell_type": "code",
   "execution_count": 2,
   "metadata": {},
   "outputs": [],
   "source": [
    "data = Dataset()\n",
    "data.read_csv(\"./datasets/iris.csv\")"
   ]
  },
  {
   "cell_type": "code",
   "execution_count": 3,
   "metadata": {},
   "outputs": [],
   "source": [
    "X_train, X_test, y_train, y_test = train_test_split(data.X, data.y, test_size=0.20, random_state=1234)\n",
    "mlp = MLP()\n",
    "mlp.build_model(X_train,y_train)"
   ]
  },
  {
   "cell_type": "code",
   "execution_count": 4,
   "metadata": {},
   "outputs": [
    {
     "name": "stdout",
     "output_type": "stream",
     "text": [
      "[array([0.99977922]), array([0.9997792]), array([0.99977969]), array([0.99977325]), array([0.99977807]), array([0.999773]), array([0.99977443]), array([0.99977094]), array([0.99977851]), array([0.99977997]), array([0.99977807]), array([0.99977113]), array([0.99978015]), array([0.99977891]), array([0.99977495]), array([0.9997771]), array([0.99977997]), array([0.9997718]), array([0.99977955]), array([0.99977846]), array([0.99977887]), array([0.99977903]), array([0.99977934]), array([0.99977908]), array([0.99978006]), array([0.99977538]), array([0.99977918]), array([0.99977801]), array([0.99977985]), array([0.99977417])]\n",
      "0.3458330484781592\n"
     ]
    }
   ],
   "source": [
    "predictions = [mlp.predict(x) for x in X_test]\n",
    "print(predictions)\n",
    "print(mlp.costFunction())\n"
   ]
  }
 ],
 "metadata": {
  "kernelspec": {
   "display_name": "Python 3",
   "language": "python",
   "name": "python3"
  },
  "language_info": {
   "codemirror_mode": {
    "name": "ipython",
    "version": 3
   },
   "file_extension": ".py",
   "mimetype": "text/x-python",
   "name": "python",
   "nbconvert_exporter": "python",
   "pygments_lexer": "ipython3",
   "version": "3.10.11"
  },
  "orig_nbformat": 4
 },
 "nbformat": 4,
 "nbformat_minor": 2
}
