{
 "cells": [
  {
   "cell_type": "code",
   "execution_count": 14,
   "metadata": {},
   "outputs": [],
   "source": [
    "from src.md.data.dataset import Dataset\n",
    "ds = Dataset()"
   ]
  },
  {
   "cell_type": "code",
   "execution_count": 15,
   "metadata": {},
   "outputs": [],
   "source": [
    "ds.read_csv(\"./datasets/notas.csv\")"
   ]
  },
  {
   "cell_type": "code",
   "execution_count": 16,
   "metadata": {},
   "outputs": [
    {
     "name": "stdout",
     "output_type": "stream",
     "text": [
      "Nome\n",
      " -Quantidade de valores únicos:  10\n",
      " -Valor mais frequente:  \n",
      "LaboratÃ³rios\n",
      " -Média:  12.3\n",
      " -Mediana:  15.5\n",
      " -Desvio padrão:  6.870953354520754\n",
      " -Minimo:  -1\n",
      " -Máximo:  19\n",
      "Alg_AvanÃ§ados\n",
      " -Média:  14.3\n",
      " -Mediana:  15.5\n",
      " -Desvio padrão:  5.254521862167861\n",
      " -Minimo:  -1\n",
      " -Máximo:  18\n",
      "Biologia_Sistemas\n",
      " -Média:  14.0\n",
      " -Mediana:  15.5\n",
      " -Desvio padrão:  5.744562646538029\n",
      " -Minimo:  -1\n",
      " -Máximo:  20\n"
     ]
    }
   ],
   "source": [
    "ds.describe()"
   ]
  },
  {
   "cell_type": "code",
   "execution_count": 17,
   "metadata": {},
   "outputs": [
    {
     "name": "stdout",
     "output_type": "stream",
     "text": [
      "Nome - valores nulos: 1\n",
      "LaboratÃ³rios - valores nulos: 0\n",
      "Alg_AvanÃ§ados - valores nulos: 0\n",
      "Biologia_Sistemas - valores nulos: 0\n"
     ]
    }
   ],
   "source": [
    "ds.count_nulls()"
   ]
  },
  {
   "cell_type": "code",
   "execution_count": 18,
   "metadata": {},
   "outputs": [
    {
     "name": "stdout",
     "output_type": "stream",
     "text": [
      "Nome - valores nulos: 1\n",
      "LaboratÃ³rios - valores nulos: 2\n",
      "Alg_AvanÃ§ados - valores nulos: 2\n",
      "Biologia_Sistemas - valores nulos: 2\n"
     ]
    }
   ],
   "source": [
    "\n",
    "ds.replace_to_null(-1)\n",
    "ds.replace_to_null(\"\")\n",
    "ds.count_nulls()"
   ]
  },
  {
   "cell_type": "code",
   "execution_count": 19,
   "metadata": {},
   "outputs": [
    {
     "name": "stdout",
     "output_type": "stream",
     "text": [
      "[['Carina' 12 16]\n",
      " ['Carla' 17 16]\n",
      " ['SÃ³nia' 15.625 18]\n",
      " ['Pedro' 16 16.0]\n",
      " ['JosÃ©' 14 17]\n",
      " ['Carina' 19 18]\n",
      " ['Telma' 16 14]\n",
      " ['Joaquim' 15.625 15]\n",
      " ['Ricardo' 15 15]\n",
      " ['Vanda' 16 15]]\n",
      "Nome - valores nulos: 0\n",
      "LaboratÃ³rios - valores nulos: 0\n",
      "Alg_AvanÃ§ados - valores nulos: 0\n",
      "Biologia_Sistemas - valores nulos: 0\n",
      "[17.         15.66666667 18.         18.         12.         20.\n",
      " 12.         12.         14.         18.        ]\n"
     ]
    }
   ],
   "source": [
    "ds.replace_nulls_automatic()\n",
    "print(ds.X)\n",
    "ds.count_nulls()\n",
    "print(ds.y)"
   ]
  },
  {
   "cell_type": "code",
   "execution_count": 20,
   "metadata": {},
   "outputs": [],
   "source": [
    "ds.write_csv(\"./datasets/notas2.csv\")"
   ]
  }
 ],
 "metadata": {
  "kernelspec": {
   "display_name": "Python 3",
   "language": "python",
   "name": "python3"
  },
  "language_info": {
   "codemirror_mode": {
    "name": "ipython",
    "version": 3
   },
   "file_extension": ".py",
   "mimetype": "text/x-python",
   "name": "python",
   "nbconvert_exporter": "python",
   "pygments_lexer": "ipython3",
   "version": "3.10.10"
  },
  "orig_nbformat": 4,
  "vscode": {
   "interpreter": {
    "hash": "8971b1c654fd762fcde86805f576f54d002a203d0a5b3ee346fcd1ccd29b40c1"
   }
  }
 },
 "nbformat": 4,
 "nbformat_minor": 2
}
