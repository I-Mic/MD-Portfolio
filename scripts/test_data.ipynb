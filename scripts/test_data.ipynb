{
 "cells": [
  {
   "cell_type": "code",
   "execution_count": 1,
   "metadata": {},
   "outputs": [],
   "source": [
    "from src.md.data.dataset import Dataset\n",
    "ds = Dataset()"
   ]
  },
  {
   "cell_type": "code",
   "execution_count": 12,
   "metadata": {},
   "outputs": [],
   "source": [
    "ds.read_csv(\"./datasets/notas.csv\")"
   ]
  },
  {
   "cell_type": "code",
   "execution_count": 3,
   "metadata": {},
   "outputs": [
    {
     "name": "stdout",
     "output_type": "stream",
     "text": [
      "Nome\n",
      " -Quantidade de valores únicos:  10\n",
      " -Valor mais frequente:  0\n",
      "LaboratÃ³rios\n",
      " -Média:  12.3\n",
      " -Mediana:  15.5\n",
      " -Desvio padrão:  6.870953354520754\n",
      " -Minimo:  -1.0\n",
      " -Máximo:  19.0\n",
      "Alg_AvanÃ§ados\n",
      " -Média:  14.3\n",
      " -Mediana:  15.5\n",
      " -Desvio padrão:  5.254521862167861\n",
      " -Minimo:  -1.0\n",
      " -Máximo:  18.0\n",
      "Biologia_Sistemas\n",
      " -Média:  14.0\n",
      " -Mediana:  15.5\n",
      " -Desvio padrão:  5.744562646538029\n",
      " -Minimo:  -1.0\n",
      " -Máximo:  20.0\n"
     ]
    }
   ],
   "source": [
    "ds.describe()"
   ]
  },
  {
   "cell_type": "code",
   "execution_count": 4,
   "metadata": {},
   "outputs": [
    {
     "name": "stdout",
     "output_type": "stream",
     "text": [
      "Nome - valores nulos: 1\n",
      "LaboratÃ³rios - valores nulos: 0\n",
      "Alg_AvanÃ§ados - valores nulos: 0\n",
      "Biologia_Sistemas - valores nulos: 0\n"
     ]
    }
   ],
   "source": [
    "ds.count_nulls()"
   ]
  },
  {
   "cell_type": "code",
   "execution_count": 5,
   "metadata": {},
   "outputs": [
    {
     "name": "stdout",
     "output_type": "stream",
     "text": [
      "Nome - valores nulos: 1\n",
      "LaboratÃ³rios - valores nulos: 2\n",
      "Alg_AvanÃ§ados - valores nulos: 2\n",
      "Biologia_Sistemas - valores nulos: 2\n",
      "[[nan 12. 16.]\n",
      " [ 1. 17. 16.]\n",
      " [ 7. nan 18.]\n",
      " [ 5. 16. nan]\n",
      " [ 3. 14. 17.]\n",
      " [ 0. 19. 18.]\n",
      " [ 8. 16. 14.]\n",
      " [ 2. nan 15.]\n",
      " [ 6. 15. 15.]\n",
      " [ 9. 16. 15.]]\n",
      "[17. nan 18. 18. 12. 20. 12. 12. 14. 18.]\n"
     ]
    }
   ],
   "source": [
    "\n",
    "ds.replace_to_null(-1)\n",
    "ds.count_nulls()\n",
    "print(ds.X)\n",
    "print(ds.y)"
   ]
  },
  {
   "cell_type": "code",
   "execution_count": 6,
   "metadata": {},
   "outputs": [
    {
     "name": "stdout",
     "output_type": "stream",
     "text": [
      "[[ 0. 12. 16.]\n",
      " [ 1. 17. 16.]\n",
      " [ 7. nan 18.]\n",
      " [ 5. 16. nan]\n",
      " [ 3. 14. 17.]\n",
      " [ 0. 19. 18.]\n",
      " [ 8. 16. 14.]\n",
      " [ 2. nan 15.]\n",
      " [ 6. 15. 15.]\n",
      " [ 9. 16. 15.]]\n",
      "Nome - valores nulos: 0\n",
      "LaboratÃ³rios - valores nulos: 2\n",
      "Alg_AvanÃ§ados - valores nulos: 2\n",
      "Biologia_Sistemas - valores nulos: 2\n"
     ]
    }
   ],
   "source": [
    "ds.replace_nulls(\"mode\",0)\n",
    "print(ds.X)\n",
    "ds.count_nulls()"
   ]
  },
  {
   "cell_type": "code",
   "execution_count": 7,
   "metadata": {},
   "outputs": [
    {
     "name": "stdout",
     "output_type": "stream",
     "text": [
      "[[ 0.    12.    16.   ]\n",
      " [ 1.    17.    16.   ]\n",
      " [ 7.    15.625 18.   ]\n",
      " [ 5.    16.       nan]\n",
      " [ 3.    14.    17.   ]\n",
      " [ 0.    19.    18.   ]\n",
      " [ 8.    16.    14.   ]\n",
      " [ 2.    15.625 15.   ]\n",
      " [ 6.    15.    15.   ]\n",
      " [ 9.    16.    15.   ]]\n",
      "Nome - valores nulos: 0\n",
      "LaboratÃ³rios - valores nulos: 0\n",
      "Alg_AvanÃ§ados - valores nulos: 2\n",
      "Biologia_Sistemas - valores nulos: 2\n"
     ]
    }
   ],
   "source": [
    "ds.replace_nulls(\"mean\",1)\n",
    "print(ds.X)\n",
    "ds.count_nulls()"
   ]
  },
  {
   "cell_type": "code",
   "execution_count": 9,
   "metadata": {},
   "outputs": [
    {
     "name": "stdout",
     "output_type": "stream",
     "text": [
      "[[ 0.    12.    16.   ]\n",
      " [ 1.    17.    16.   ]\n",
      " [ 7.    15.625 18.   ]\n",
      " [ 5.    16.    16.   ]\n",
      " [ 3.    14.    17.   ]\n",
      " [ 0.    19.    18.   ]\n",
      " [ 8.    16.    14.   ]\n",
      " [ 2.    15.625 15.   ]\n",
      " [ 6.    15.    15.   ]\n",
      " [ 9.    16.    15.   ]]\n",
      "Nome - valores nulos: 0\n",
      "LaboratÃ³rios - valores nulos: 0\n",
      "Alg_AvanÃ§ados - valores nulos: 1\n",
      "Biologia_Sistemas - valores nulos: 1\n"
     ]
    }
   ],
   "source": [
    "ds.replace_nulls(\"mean\")\n",
    "print(ds.X)\n",
    "ds.count_nulls()"
   ]
  },
  {
   "cell_type": "code",
   "execution_count": 10,
   "metadata": {},
   "outputs": [],
   "source": [
    "ds.write_csv(\"./datasets/notas2.csv\")\n"
   ]
  }
 ],
 "metadata": {
  "kernelspec": {
   "display_name": "Python 3",
   "language": "python",
   "name": "python3"
  },
  "language_info": {
   "codemirror_mode": {
    "name": "ipython",
    "version": 3
   },
   "file_extension": ".py",
   "mimetype": "text/x-python",
   "name": "python",
   "nbconvert_exporter": "python",
   "pygments_lexer": "ipython3",
   "version": "3.10.10"
  },
  "orig_nbformat": 4,
  "vscode": {
   "interpreter": {
    "hash": "8971b1c654fd762fcde86805f576f54d002a203d0a5b3ee346fcd1ccd29b40c1"
   }
  }
 },
 "nbformat": 4,
 "nbformat_minor": 2
}
