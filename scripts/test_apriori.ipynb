{
 "cells": [
  {
   "cell_type": "code",
   "execution_count": 1,
   "metadata": {},
   "outputs": [],
   "source": [
    "import src.md.mining.itemset_mining as im\n",
    "from src.md.data.transaction_data import TransactionDataset"
   ]
  },
  {
   "cell_type": "code",
   "execution_count": 2,
   "metadata": {},
   "outputs": [],
   "source": [
    "transactions = [    {'bread', 'milk'},    {'bread', 'diapers', 'beer', 'eggs'},    {'milk', 'diapers', 'beer', 'cola'},    {'bread', 'milk', 'diapers', 'beer'},    {'bread', 'milk', 'diapers', 'cola'}]\n",
    "data = TransactionDataset(transactions)"
   ]
  },
  {
   "cell_type": "code",
   "execution_count": 3,
   "metadata": {},
   "outputs": [
    {
     "name": "stdout",
     "output_type": "stream",
     "text": [
      "{frozenset({'milk'}): 4, frozenset({'bread'}): 4, frozenset({'diapers'}): 4, frozenset({'beer'}): 3, frozenset({'cola'}): 2, frozenset({'eggs'}): 1, frozenset({'milk', 'bread'}): 3, frozenset({'beer', 'diapers'}): 3, frozenset({'bread', 'diapers'}): 3, frozenset({'bread', 'beer'}): 2, frozenset({'milk', 'cola'}): 2, frozenset({'milk', 'diapers'}): 3, frozenset({'cola', 'diapers'}): 2, frozenset({'milk', 'beer'}): 2, frozenset({'bread', 'beer', 'diapers'}): 2, frozenset({'milk', 'beer', 'diapers'}): 2, frozenset({'milk', 'cola', 'diapers'}): 2, frozenset({'milk', 'diapers', 'bread'}): 2}\n"
     ]
    }
   ],
   "source": [
    "frequent_itemsets2 = im.frequent_itemsets(data, 2)\n",
    "\n",
    "print(frequent_itemsets2)"
   ]
  },
  {
   "cell_type": "code",
   "execution_count": 4,
   "metadata": {},
   "outputs": [
    {
     "name": "stdout",
     "output_type": "stream",
     "text": [
      "[(frozenset({'milk'}), frozenset({'bread'}), 0.75), (frozenset({'bread'}), frozenset({'milk'}), 0.75), (frozenset({'beer'}), frozenset({'diapers'}), 1.0), (frozenset({'diapers'}), frozenset({'beer'}), 0.75), (frozenset({'bread'}), frozenset({'diapers'}), 0.75), (frozenset({'diapers'}), frozenset({'bread'}), 0.75), (frozenset({'bread'}), frozenset({'beer'}), 0.5), (frozenset({'beer'}), frozenset({'bread'}), 0.6666666666666666), (frozenset({'milk'}), frozenset({'cola'}), 0.5), (frozenset({'cola'}), frozenset({'milk'}), 1.0), (frozenset({'milk'}), frozenset({'diapers'}), 0.75), (frozenset({'diapers'}), frozenset({'milk'}), 0.75), (frozenset({'cola'}), frozenset({'diapers'}), 1.0), (frozenset({'diapers'}), frozenset({'cola'}), 0.5), (frozenset({'milk'}), frozenset({'beer'}), 0.5), (frozenset({'beer'}), frozenset({'milk'}), 0.6666666666666666), (frozenset({'bread'}), frozenset({'beer', 'diapers'}), 0.5), (frozenset({'beer'}), frozenset({'bread', 'diapers'}), 0.6666666666666666), (frozenset({'diapers'}), frozenset({'bread', 'beer'}), 0.5), (frozenset({'bread', 'beer'}), frozenset({'diapers'}), 1.0), (frozenset({'bread', 'diapers'}), frozenset({'beer'}), 0.6666666666666666), (frozenset({'beer', 'diapers'}), frozenset({'bread'}), 0.6666666666666666), (frozenset({'milk'}), frozenset({'beer', 'diapers'}), 0.5), (frozenset({'beer'}), frozenset({'milk', 'diapers'}), 0.6666666666666666), (frozenset({'diapers'}), frozenset({'milk', 'beer'}), 0.5), (frozenset({'milk', 'beer'}), frozenset({'diapers'}), 1.0), (frozenset({'milk', 'diapers'}), frozenset({'beer'}), 0.6666666666666666), (frozenset({'beer', 'diapers'}), frozenset({'milk'}), 0.6666666666666666), (frozenset({'milk'}), frozenset({'cola', 'diapers'}), 0.5), (frozenset({'cola'}), frozenset({'milk', 'diapers'}), 1.0), (frozenset({'diapers'}), frozenset({'milk', 'cola'}), 0.5), (frozenset({'milk', 'cola'}), frozenset({'diapers'}), 1.0), (frozenset({'milk', 'diapers'}), frozenset({'cola'}), 0.6666666666666666), (frozenset({'cola', 'diapers'}), frozenset({'milk'}), 1.0), (frozenset({'milk'}), frozenset({'bread', 'diapers'}), 0.5), (frozenset({'diapers'}), frozenset({'milk', 'bread'}), 0.5), (frozenset({'bread'}), frozenset({'milk', 'diapers'}), 0.5), (frozenset({'milk', 'diapers'}), frozenset({'bread'}), 0.6666666666666666), (frozenset({'milk', 'bread'}), frozenset({'diapers'}), 0.6666666666666666), (frozenset({'bread', 'diapers'}), frozenset({'milk'}), 0.6666666666666666)]\n"
     ]
    }
   ],
   "source": [
    "rules = im.generate_rules(frequent_itemsets2,0)\n",
    "print(rules)"
   ]
  }
 ],
 "metadata": {
  "kernelspec": {
   "display_name": "Python 3",
   "language": "python",
   "name": "python3"
  },
  "language_info": {
   "codemirror_mode": {
    "name": "ipython",
    "version": 3
   },
   "file_extension": ".py",
   "mimetype": "text/x-python",
   "name": "python",
   "nbconvert_exporter": "python",
   "pygments_lexer": "ipython3",
   "version": "3.10.10"
  },
  "orig_nbformat": 4
 },
 "nbformat": 4,
 "nbformat_minor": 2
}
