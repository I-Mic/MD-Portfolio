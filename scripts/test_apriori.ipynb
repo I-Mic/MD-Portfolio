{
 "cells": [
  {
   "cell_type": "code",
   "execution_count": 1,
   "metadata": {},
   "outputs": [],
   "source": [
    "import src.md.mining.itemset_mining as im\n",
    "from src.md.data.transaction_data import TransactionDataset"
   ]
  },
  {
   "cell_type": "code",
   "execution_count": 2,
   "metadata": {},
   "outputs": [],
   "source": [
    "transactions = [    {'bread', 'milk'},    {'bread', 'diapers', 'beer', 'eggs'},    {'milk', 'diapers', 'beer', 'cola'},    {'bread', 'milk', 'diapers', 'beer'},    {'bread', 'milk', 'diapers', 'cola'}]\n",
    "data = TransactionDataset(transactions)"
   ]
  },
  {
   "cell_type": "code",
   "execution_count": 3,
   "metadata": {},
   "outputs": [
    {
     "name": "stdout",
     "output_type": "stream",
     "text": [
      "{frozenset({'bread'}): 4, frozenset({'milk'}): 4, frozenset({'diapers'}): 4, frozenset({'beer'}): 3, frozenset({'cola'}): 2, frozenset({'eggs'}): 1, frozenset({'bread', 'milk'}): 3, frozenset({'bread', 'beer'}): 2, frozenset({'diapers', 'beer'}): 3, frozenset({'bread', 'diapers'}): 3, frozenset({'milk', 'beer'}): 2, frozenset({'cola', 'milk'}): 2, frozenset({'diapers', 'milk'}): 3, frozenset({'cola', 'diapers'}): 2, frozenset({'bread', 'diapers', 'beer'}): 2, frozenset({'diapers', 'cola', 'milk'}): 2, frozenset({'diapers', 'milk', 'beer'}): 2, frozenset({'bread', 'diapers', 'milk'}): 2}\n"
     ]
    }
   ],
   "source": [
    "frequent_itemsets2 = im.frequent_itemsets(data, 2)\n",
    "\n",
    "print(frequent_itemsets2)"
   ]
  },
  {
   "cell_type": "code",
   "execution_count": 4,
   "metadata": {},
   "outputs": [
    {
     "name": "stdout",
     "output_type": "stream",
     "text": [
      "[(frozenset({'bread'}), frozenset({'milk'}), 0.75), (frozenset({'milk'}), frozenset({'bread'}), 0.75), (frozenset({'bread'}), frozenset({'beer'}), 0.5), (frozenset({'beer'}), frozenset({'bread'}), 0.6666666666666666), (frozenset({'diapers'}), frozenset({'beer'}), 0.75), (frozenset({'beer'}), frozenset({'diapers'}), 1.0), (frozenset({'bread'}), frozenset({'diapers'}), 0.75), (frozenset({'diapers'}), frozenset({'bread'}), 0.75), (frozenset({'milk'}), frozenset({'beer'}), 0.5), (frozenset({'beer'}), frozenset({'milk'}), 0.6666666666666666), (frozenset({'cola'}), frozenset({'milk'}), 1.0), (frozenset({'milk'}), frozenset({'cola'}), 0.5), (frozenset({'diapers'}), frozenset({'milk'}), 0.75), (frozenset({'milk'}), frozenset({'diapers'}), 0.75), (frozenset({'cola'}), frozenset({'diapers'}), 1.0), (frozenset({'diapers'}), frozenset({'cola'}), 0.5), (frozenset({'bread'}), frozenset({'diapers', 'beer'}), 0.5), (frozenset({'diapers'}), frozenset({'bread', 'beer'}), 0.5), (frozenset({'beer'}), frozenset({'bread', 'diapers'}), 0.6666666666666666), (frozenset({'bread', 'diapers'}), frozenset({'beer'}), 0.6666666666666666), (frozenset({'bread', 'beer'}), frozenset({'diapers'}), 1.0), (frozenset({'diapers', 'beer'}), frozenset({'bread'}), 0.6666666666666666), (frozenset({'diapers'}), frozenset({'cola', 'milk'}), 0.5), (frozenset({'cola'}), frozenset({'diapers', 'milk'}), 1.0), (frozenset({'milk'}), frozenset({'cola', 'diapers'}), 0.5), (frozenset({'cola', 'diapers'}), frozenset({'milk'}), 1.0), (frozenset({'diapers', 'milk'}), frozenset({'cola'}), 0.6666666666666666), (frozenset({'cola', 'milk'}), frozenset({'diapers'}), 1.0), (frozenset({'diapers'}), frozenset({'milk', 'beer'}), 0.5), (frozenset({'milk'}), frozenset({'diapers', 'beer'}), 0.5), (frozenset({'beer'}), frozenset({'diapers', 'milk'}), 0.6666666666666666), (frozenset({'diapers', 'milk'}), frozenset({'beer'}), 0.6666666666666666), (frozenset({'diapers', 'beer'}), frozenset({'milk'}), 0.6666666666666666), (frozenset({'milk', 'beer'}), frozenset({'diapers'}), 1.0), (frozenset({'bread'}), frozenset({'diapers', 'milk'}), 0.5), (frozenset({'diapers'}), frozenset({'bread', 'milk'}), 0.5), (frozenset({'milk'}), frozenset({'bread', 'diapers'}), 0.5), (frozenset({'bread', 'diapers'}), frozenset({'milk'}), 0.6666666666666666), (frozenset({'bread', 'milk'}), frozenset({'diapers'}), 0.6666666666666666), (frozenset({'diapers', 'milk'}), frozenset({'bread'}), 0.6666666666666666)]\n"
     ]
    }
   ],
   "source": [
    "rules = im.generate_rules(frequent_itemsets2,0)\n",
    "print(rules)"
   ]
  }
 ],
 "metadata": {
  "kernelspec": {
   "display_name": "Python 3",
   "language": "python",
   "name": "python3"
  },
  "language_info": {
   "codemirror_mode": {
    "name": "ipython",
    "version": 3
   },
   "file_extension": ".py",
   "mimetype": "text/x-python",
   "name": "python",
   "nbconvert_exporter": "python",
   "pygments_lexer": "ipython3",
   "version": "3.10.11"
  },
  "orig_nbformat": 4
 },
 "nbformat": 4,
 "nbformat_minor": 2
}
