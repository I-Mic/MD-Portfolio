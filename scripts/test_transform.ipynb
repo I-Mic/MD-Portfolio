{
 "cells": [
  {
   "cell_type": "code",
   "execution_count": 8,
   "metadata": {},
   "outputs": [],
   "source": [
    "from src.md.feature_selection.variance_threshold import VarianceThreshold\n",
    "from src.md.feature_selection.selectKBest import SelectKBest\n",
    "from src.md.data.dataset import Dataset\n",
    "from src.md.stats.f_classif import f_classif"
   ]
  },
  {
   "cell_type": "code",
   "execution_count": 9,
   "metadata": {},
   "outputs": [],
   "source": [
    "ds = Dataset()\n",
    "ds.read_csv(\"./datasets/iris.csv\")\n",
    "ds2 = Dataset()\n",
    "ds2.read_csv(\"./datasets/data_cachexia.csv\")"
   ]
  },
  {
   "cell_type": "code",
   "execution_count": 10,
   "metadata": {},
   "outputs": [
    {
     "name": "stdout",
     "output_type": "stream",
     "text": [
      "['sepal_length', 'sepal_width', 'petal_length', 'petal_width']\n",
      "['sepal_length', 'petal_length', 'petal_width']\n"
     ]
    }
   ],
   "source": [
    "vt = VarianceThreshold(0.5)\n",
    "vt.fit(ds)\n",
    "print(ds.features)\n",
    "transformed = vt.transform(ds)\n",
    "print(transformed.features)"
   ]
  },
  {
   "cell_type": "code",
   "execution_count": 11,
   "metadata": {},
   "outputs": [
    {
     "name": "stdout",
     "output_type": "stream",
     "text": [
      "['Patient ID', '1.6-Anhydro-beta-D-glucose', '1-Methylnicotinamide', '2-Aminobutyrate', '2-Hydroxyisobutyrate', '2-Oxoglutarate', '3-Aminoisobutyrate', '3-Hydroxybutyrate', '3-Hydroxyisovalerate', '3-Indoxylsulfate', '4-Hydroxyphenylacetate', 'Acetate', 'Acetone', 'Adipate', 'Alanine', 'Asparagine', 'Betaine', 'Carnitine', 'Citrate', 'Creatine', 'Creatinine', 'Dimethylamine', 'Ethanolamine', 'Formate', 'Fucose', 'Fumarate', 'Glucose', 'Glutamine', 'Glycine', 'Glycolate', 'Guanidoacetate', 'Hippurate', 'Histidine', 'Hypoxanthine', 'Isoleucine', 'Lactate', 'Leucine', 'Lysine', 'Methylamine', 'Methylguanidine', 'N.N-Dimethylglycine', 'O-Acetylcarnitine', 'Pantothenate', 'Pyroglutamate', 'Pyruvate', 'Quinolinate', 'Serine', 'Succinate', 'Sucrose', 'Tartrate', 'Taurine', 'Threonine', 'Trigonelline', 'Trimethylamine N-oxide', 'Tryptophan', 'Tyrosine', 'Uracil', 'Valine', 'Xylose', 'cis-Aconitate', 'myo-Inositol', 'trans-Aconitate', 'pi-Methylhistidine']\n"
     ]
    },
    {
     "data": {
      "text/plain": [
       "['Patient ID',\n",
       " '1.6-Anhydro-beta-D-glucose',\n",
       " '1-Methylnicotinamide',\n",
       " '2-Aminobutyrate',\n",
       " '2-Hydroxyisobutyrate',\n",
       " '2-Oxoglutarate',\n",
       " '3-Aminoisobutyrate',\n",
       " '3-Hydroxybutyrate',\n",
       " '3-Hydroxyisovalerate',\n",
       " '3-Indoxylsulfate',\n",
       " '4-Hydroxyphenylacetate',\n",
       " 'Acetate',\n",
       " 'Acetone',\n",
       " 'Adipate',\n",
       " 'Alanine',\n",
       " 'Asparagine',\n",
       " 'Betaine',\n",
       " 'Carnitine',\n",
       " 'Citrate',\n",
       " 'Creatine',\n",
       " 'Creatinine',\n",
       " 'Dimethylamine',\n",
       " 'Ethanolamine',\n",
       " 'Formate',\n",
       " 'Fucose',\n",
       " 'Fumarate',\n",
       " 'Glucose',\n",
       " 'Glutamine',\n",
       " 'Glycine',\n",
       " 'Glycolate',\n",
       " 'Guanidoacetate',\n",
       " 'Hippurate',\n",
       " 'Histidine',\n",
       " 'Hypoxanthine',\n",
       " 'Isoleucine',\n",
       " 'Lactate',\n",
       " 'Leucine',\n",
       " 'Lysine',\n",
       " 'Methylamine',\n",
       " 'Methylguanidine',\n",
       " 'N.N-Dimethylglycine',\n",
       " 'O-Acetylcarnitine',\n",
       " 'Pantothenate',\n",
       " 'Pyroglutamate',\n",
       " 'Pyruvate',\n",
       " 'Quinolinate',\n",
       " 'Serine',\n",
       " 'Succinate',\n",
       " 'Sucrose',\n",
       " 'Tartrate',\n",
       " 'Taurine',\n",
       " 'Threonine',\n",
       " 'Trigonelline',\n",
       " 'Trimethylamine N-oxide',\n",
       " 'Tryptophan',\n",
       " 'Tyrosine',\n",
       " 'Uracil',\n",
       " 'Valine',\n",
       " 'Xylose',\n",
       " 'cis-Aconitate',\n",
       " 'myo-Inositol',\n",
       " 'trans-Aconitate',\n",
       " 'pi-Methylhistidine']"
      ]
     },
     "execution_count": 11,
     "metadata": {},
     "output_type": "execute_result"
    }
   ],
   "source": [
    "print(ds2.features)\n",
    "vt.fit_transform(ds2).features"
   ]
  },
  {
   "cell_type": "code",
   "execution_count": 12,
   "metadata": {},
   "outputs": [
    {
     "data": {
      "text/plain": [
       "['petal_width', 'petal_length']"
      ]
     },
     "execution_count": 12,
     "metadata": {},
     "output_type": "execute_result"
    }
   ],
   "source": [
    "# Select K Best with f_classification\n",
    "k_best = SelectKBest(score_func=f_classif, k=2)\n",
    "k_best.fit_transform(ds).features"
   ]
  }
 ],
 "metadata": {
  "kernelspec": {
   "display_name": "Python 3",
   "language": "python",
   "name": "python3"
  },
  "language_info": {
   "codemirror_mode": {
    "name": "ipython",
    "version": 3
   },
   "file_extension": ".py",
   "mimetype": "text/x-python",
   "name": "python",
   "nbconvert_exporter": "python",
   "pygments_lexer": "ipython3",
   "version": "3.10.10"
  },
  "orig_nbformat": 4
 },
 "nbformat": 4,
 "nbformat_minor": 2
}
